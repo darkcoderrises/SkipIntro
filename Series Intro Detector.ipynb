{
 "cells": [
  {
   "cell_type": "code",
   "execution_count": 12,
   "metadata": {},
   "outputs": [],
   "source": [
    "import numpy as np\n",
    "import cv2\n",
    "import glob\n",
    "import pickle\n",
    "import sys\n",
    "from collections import defaultdict, Counter\n",
    "import caffe\n",
    "from sklearn.neighbors import NearestNeighbors\n",
    "import matplotlib.pyplot as plt"
   ]
  },
  {
   "cell_type": "code",
   "execution_count": 2,
   "metadata": {},
   "outputs": [],
   "source": [
    "files = glob.glob('./*.avi')"
   ]
  },
  {
   "cell_type": "code",
   "execution_count": 3,
   "metadata": {},
   "outputs": [],
   "source": [
    "file_a, file_b = files"
   ]
  },
  {
   "cell_type": "code",
   "execution_count": 4,
   "metadata": {},
   "outputs": [],
   "source": [
    "extract_from_layer = \"pool5/7x7_s1\"\n",
    "model_def= \"./deploy.prototxt\"\n",
    "pretrained_model=\"./bvlc_googlenet.caffemodel\"\n",
    "\n",
    "net = caffe.Net(model_def, pretrained_model, caffe.TEST)"
   ]
  },
  {
   "cell_type": "code",
   "execution_count": 6,
   "metadata": {},
   "outputs": [
    {
     "name": "stdout",
     "output_type": "stream",
     "text": [
      "7199%"
     ]
    }
   ],
   "source": [
    "def read_video(file_name):\n",
    "    vidcap = cv2.VideoCapture(file_name)\n",
    "    final_arr = []\n",
    "    frame_num = 0\n",
    "\n",
    "    while frame_num < round(vidcap.get(cv2.CAP_PROP_FPS)) * 5 * 60:\n",
    "        sys.stdout.write(\"\\r%d%%\" % frame_num)\n",
    "        sys.stdout.flush()\n",
    "        frame_num += 1\n",
    "        \n",
    "        ret, image = vidcap.read()\n",
    "        img =  cv2.resize(image, (224, 224)) \n",
    "        img = np.array(img,dtype=float)\n",
    "        features = np.zeros(1024,)\n",
    "        img[:,:,[0,1,2]] = img[:, :, [2, 1, 0]] # swap channels\n",
    "        img = img.transpose((2, 0, 1)) # re-order dimensions\n",
    "\n",
    "        net.blobs['data'].reshape(1,3,224,224)\n",
    "        net.blobs['data'].data[...] = img\n",
    "        res = net.forward()\n",
    "        \n",
    "        final_arr.append(np.ndarray.flatten(net.blobs['pool5/7x7_s1'].data[0].copy()))\n",
    "    return final_arr\n",
    "\n",
    "videogen_a = read_video(file_a)"
   ]
  },
  {
   "cell_type": "code",
   "execution_count": 7,
   "metadata": {},
   "outputs": [
    {
     "name": "stdout",
     "output_type": "stream",
     "text": [
      "7199%"
     ]
    }
   ],
   "source": [
    "videogen_b = read_video(file_b)"
   ]
  },
  {
   "cell_type": "code",
   "execution_count": 8,
   "metadata": {},
   "outputs": [
    {
     "name": "stdout",
     "output_type": "stream",
     "text": [
      "('./House MD 202 - Autopsy.avi', './House MD 203 - Humpty Dumpty.avi')\n"
     ]
    },
    {
     "data": {
      "text/plain": [
       "61440"
      ]
     },
     "execution_count": 8,
     "metadata": {},
     "output_type": "execute_result"
    }
   ],
   "source": [
    "print (file_a, file_b)\n",
    "import sys\n",
    "sys.getsizeof(videogen_a)"
   ]
  },
  {
   "cell_type": "code",
   "execution_count": 9,
   "metadata": {},
   "outputs": [],
   "source": [
    "import pickle\n",
    "outfile = open('videogen_a.pkl', 'wb')\n",
    "pickle.dump([videogen_a, videogen_b],outfile)\n",
    "outfile.close()"
   ]
  },
  {
   "cell_type": "code",
   "execution_count": 5,
   "metadata": {},
   "outputs": [],
   "source": [
    "import pickle\n",
    "infile = open('videogen_a.pkl', 'rb')\n",
    "videogen_a, videogen_b = pickle.load(infile)\n",
    "infile.close()"
   ]
  },
  {
   "cell_type": "code",
   "execution_count": null,
   "metadata": {},
   "outputs": [],
   "source": []
  },
  {
   "cell_type": "code",
   "execution_count": 7,
   "metadata": {},
   "outputs": [],
   "source": [
    "nbrs = NearestNeighbors(n_neighbors=2, algorithm='ball_tree').fit(videogen_a)"
   ]
  },
  {
   "cell_type": "code",
   "execution_count": 34,
   "metadata": {},
   "outputs": [],
   "source": [
    "distance, indices = nbrs.kneighbors(videogen_b)\n",
    "temp = [i/24 for i in indices]"
   ]
  },
  {
   "cell_type": "code",
   "execution_count": 26,
   "metadata": {},
   "outputs": [
    {
     "data": {
      "text/plain": [
       "array([ 30, 156])"
      ]
     },
     "execution_count": 26,
     "metadata": {},
     "output_type": "execute_result"
    }
   ],
   "source": []
  },
  {
   "cell_type": "code",
   "execution_count": 50,
   "metadata": {},
   "outputs": [],
   "source": [
    "dp = [1 for i in range(len(temp))]\n",
    "l = [min(i) for ind, i in enumerate(temp)]\n",
    "from scipy.signal import savgol_filter\n",
    "l = savgol_filter(l, 51, 1)"
   ]
  },
  {
   "cell_type": "code",
   "execution_count": 51,
   "metadata": {},
   "outputs": [],
   "source": [
    "for i in range(1, len(l)):\n",
    "    if abs(l[i] - l[i-1]) < 2:\n",
    "        dp[i] = dp[i-1] + 1"
   ]
  },
  {
   "cell_type": "code",
   "execution_count": 52,
   "metadata": {},
   "outputs": [
    {
     "name": "stdout",
     "output_type": "stream",
     "text": [
      "161 128\n"
     ]
    }
   ],
   "source": [
    "import operator\n",
    "index, value = max(enumerate(dp), key=operator.itemgetter(1))\n",
    "print index/24, (index-value)/24"
   ]
  },
  {
   "cell_type": "code",
   "execution_count": 44,
   "metadata": {},
   "outputs": [],
   "source": []
  },
  {
   "cell_type": "code",
   "execution_count": null,
   "metadata": {},
   "outputs": [],
   "source": []
  },
  {
   "cell_type": "code",
   "execution_count": 54,
   "metadata": {},
   "outputs": [
    {
     "data": {
      "image/png": "[encoded data removed]",
      "text/plain": [
       "<Figure size 432x288 with 1 Axes>"
      ]
     },
     "metadata": {
      "needs_background": "light"
     },
     "output_type": "display_data"
    },
    {
     "data": {
      "text/plain": [
       "<Figure size 432x288 with 0 Axes>"
      ]
     },
     "metadata": {},
     "output_type": "display_data"
    }
   ],
   "source": [
    "plt.plot(l)\n",
    "plt.show()\n",
    "plt.savefig('temp.png')"
   ]
  },
  {
   "cell_type": "code",
   "execution_count": null,
   "metadata": {},
   "outputs": [],
   "source": []
  },
  {
   "cell_type": "code",
   "execution_count": null,
   "metadata": {},
   "outputs": [],
   "source": []
  },
  {
   "cell_type": "code",
   "execution_count": 59,
   "metadata": {},
   "outputs": [],
   "source": [
    "house_intro = np.array(videogen_b[index-value:index])\n",
    "house_intro_len = value"
   ]
  },
  {
   "cell_type": "code",
   "execution_count": null,
   "metadata": {},
   "outputs": [],
   "source": []
  },
  {
   "cell_type": "code",
   "execution_count": null,
   "metadata": {},
   "outputs": [],
   "source": []
  },
  {
   "cell_type": "code",
   "execution_count": null,
   "metadata": {},
   "outputs": [],
   "source": []
  },
  {
   "cell_type": "code",
   "execution_count": null,
   "metadata": {},
   "outputs": [],
   "source": []
  },
  {
   "cell_type": "code",
   "execution_count": null,
   "metadata": {},
   "outputs": [],
   "source": []
  }
 ],
 "metadata": {
  "kernelspec": {
   "display_name": "Python 3",
   "language": "python",
   "name": "python3"
  },
  "language_info": {
   "codemirror_mode": {
    "name": "ipython",
    "version": 2
   },
   "file_extension": ".py",
   "mimetype": "text/x-python",
   "name": "python",
   "nbconvert_exporter": "python",
   "pygments_lexer": "ipython2",
   "version": "2.7.12"
  }
 },
 "nbformat": 4,
 "nbformat_minor": 2
}
